{
 "cells": [
  {
   "cell_type": "markdown",
   "source": [
    "## Presentacion\n",
    "\n",
    "Hello, mi nombre es Santiago De la Mora Wolburg y estudio ingenieria y ciencia de datos en el iteso."
   ],
   "metadata": {
    "collapsed": false
   },
   "id": "19e27c72d7373fe9"
  }
 ],
 "metadata": {
  "kernelspec": {
   "display_name": "Python 3",
   "language": "python",
   "name": "python3"
  },
  "language_info": {
   "codemirror_mode": {
    "name": "ipython",
    "version": 2
   },
   "file_extension": ".py",
   "mimetype": "text/x-python",
   "name": "python",
   "nbconvert_exporter": "python",
   "pygments_lexer": "ipython2",
   "version": "2.7.6"
  }
 },
 "nbformat": 4,
 "nbformat_minor": 5
}
